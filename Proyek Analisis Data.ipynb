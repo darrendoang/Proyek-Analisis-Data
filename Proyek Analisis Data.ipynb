{
 "cells": [
  {
   "cell_type": "markdown",
   "id": "282dba1d-c78e-47d6-930a-b5449d9b5772",
   "metadata": {},
   "source": [
    "# Proyek Analisis Data: Bike Sharing Dataset\n",
    "- **Nama:** Darren\n",
    "- **Email:** 18221050@std.stei.itb.ac.id\n",
    "- **ID Dicoding:** darren_J5E4"
   ]
  },
  {
   "cell_type": "markdown",
   "id": "d9a3177a-25bf-4adc-913c-734ca80ee6d5",
   "metadata": {},
   "source": [
    "## Menentukan Pertanyaan Bisnis"
   ]
  },
  {
   "cell_type": "markdown",
   "id": "ff355f69-8c79-4d28-82b2-56bd69f40a44",
   "metadata": {},
   "source": [
    "- What is the monthly trend of bike rentals over the two-year period (2011-2012)? (Apa trend bulanan penyewaan sepeda selama periode dua tahun (2011-2012)?)\n",
    "- How does weather condition impact bike rentals over the two-year period (2011-2012)? (Bagaimana kondisi cuaca memengaruhi penyewaan sepeda selama periode dua tahun (2011-2012)?)\n",
    "- What is the daily bike rental pattern on weekdays versus weekends over the two-year period (2011-2012)? (Bagaimana pola penyewaan sepeda harian pada hari kerja versus akhir pekan selama periode dua tahun (2011-2012)?)"
   ]
  },
  {
   "cell_type": "markdown",
   "id": "0dce55f1-b710-40dd-9f83-8e14cca9f508",
   "metadata": {},
   "source": [
    "## Import Semua Packages/Library yang Digunakan"
   ]
  },
  {
   "cell_type": "code",
   "execution_count": 1,
   "id": "3e085ec7-d9b7-42aa-bd34-6f65d2542cfc",
   "metadata": {},
   "outputs": [],
   "source": [
    "import numpy as pd \n",
    "import pandas as pd\n",
    "import matplotlib.pyplot as plt\n",
    "import seaborn as sns"
   ]
  },
  {
   "cell_type": "markdown",
   "id": "913df1fe-88ad-4fdd-9a09-4b663318d859",
   "metadata": {},
   "source": [
    "## Data Wrangling"
   ]
  },
  {
   "cell_type": "markdown",
   "id": "6c70f2a6-ec33-43d8-89e4-dec79f629e21",
   "metadata": {},
   "source": [
    "## Gathering Data\n",
    "Before asking the analytical question, we first need to read and see the data"
   ]
  },
  {
   "cell_type": "code",
   "execution_count": 7,
   "id": "d7b23c3a-d493-464d-b0f1-ad9d1c33286d",
   "metadata": {},
   "outputs": [
    {
     "data": {
      "text/html": [
       "<div>\n",
       "<style scoped>\n",
       "    .dataframe tbody tr th:only-of-type {\n",
       "        vertical-align: middle;\n",
       "    }\n",
       "\n",
       "    .dataframe tbody tr th {\n",
       "        vertical-align: top;\n",
       "    }\n",
       "\n",
       "    .dataframe thead th {\n",
       "        text-align: right;\n",
       "    }\n",
       "</style>\n",
       "<table border=\"1\" class=\"dataframe\">\n",
       "  <thead>\n",
       "    <tr style=\"text-align: right;\">\n",
       "      <th></th>\n",
       "      <th>instant</th>\n",
       "      <th>dteday</th>\n",
       "      <th>season</th>\n",
       "      <th>yr</th>\n",
       "      <th>mnth</th>\n",
       "      <th>holiday</th>\n",
       "      <th>weekday</th>\n",
       "      <th>workingday</th>\n",
       "      <th>weathersit</th>\n",
       "      <th>temp</th>\n",
       "      <th>atemp</th>\n",
       "      <th>hum</th>\n",
       "      <th>windspeed</th>\n",
       "      <th>casual</th>\n",
       "      <th>registered</th>\n",
       "      <th>cnt</th>\n",
       "    </tr>\n",
       "  </thead>\n",
       "  <tbody>\n",
       "    <tr>\n",
       "      <th>0</th>\n",
       "      <td>1</td>\n",
       "      <td>2011-01-01</td>\n",
       "      <td>1</td>\n",
       "      <td>0</td>\n",
       "      <td>1</td>\n",
       "      <td>0</td>\n",
       "      <td>6</td>\n",
       "      <td>0</td>\n",
       "      <td>2</td>\n",
       "      <td>0.344167</td>\n",
       "      <td>0.363625</td>\n",
       "      <td>0.805833</td>\n",
       "      <td>0.160446</td>\n",
       "      <td>331</td>\n",
       "      <td>654</td>\n",
       "      <td>985</td>\n",
       "    </tr>\n",
       "    <tr>\n",
       "      <th>1</th>\n",
       "      <td>2</td>\n",
       "      <td>2011-01-02</td>\n",
       "      <td>1</td>\n",
       "      <td>0</td>\n",
       "      <td>1</td>\n",
       "      <td>0</td>\n",
       "      <td>0</td>\n",
       "      <td>0</td>\n",
       "      <td>2</td>\n",
       "      <td>0.363478</td>\n",
       "      <td>0.353739</td>\n",
       "      <td>0.696087</td>\n",
       "      <td>0.248539</td>\n",
       "      <td>131</td>\n",
       "      <td>670</td>\n",
       "      <td>801</td>\n",
       "    </tr>\n",
       "    <tr>\n",
       "      <th>2</th>\n",
       "      <td>3</td>\n",
       "      <td>2011-01-03</td>\n",
       "      <td>1</td>\n",
       "      <td>0</td>\n",
       "      <td>1</td>\n",
       "      <td>0</td>\n",
       "      <td>1</td>\n",
       "      <td>1</td>\n",
       "      <td>1</td>\n",
       "      <td>0.196364</td>\n",
       "      <td>0.189405</td>\n",
       "      <td>0.437273</td>\n",
       "      <td>0.248309</td>\n",
       "      <td>120</td>\n",
       "      <td>1229</td>\n",
       "      <td>1349</td>\n",
       "    </tr>\n",
       "    <tr>\n",
       "      <th>3</th>\n",
       "      <td>4</td>\n",
       "      <td>2011-01-04</td>\n",
       "      <td>1</td>\n",
       "      <td>0</td>\n",
       "      <td>1</td>\n",
       "      <td>0</td>\n",
       "      <td>2</td>\n",
       "      <td>1</td>\n",
       "      <td>1</td>\n",
       "      <td>0.200000</td>\n",
       "      <td>0.212122</td>\n",
       "      <td>0.590435</td>\n",
       "      <td>0.160296</td>\n",
       "      <td>108</td>\n",
       "      <td>1454</td>\n",
       "      <td>1562</td>\n",
       "    </tr>\n",
       "    <tr>\n",
       "      <th>4</th>\n",
       "      <td>5</td>\n",
       "      <td>2011-01-05</td>\n",
       "      <td>1</td>\n",
       "      <td>0</td>\n",
       "      <td>1</td>\n",
       "      <td>0</td>\n",
       "      <td>3</td>\n",
       "      <td>1</td>\n",
       "      <td>1</td>\n",
       "      <td>0.226957</td>\n",
       "      <td>0.229270</td>\n",
       "      <td>0.436957</td>\n",
       "      <td>0.186900</td>\n",
       "      <td>82</td>\n",
       "      <td>1518</td>\n",
       "      <td>1600</td>\n",
       "    </tr>\n",
       "  </tbody>\n",
       "</table>\n",
       "</div>"
      ],
      "text/plain": [
       "   instant      dteday  season  yr  mnth  holiday  weekday  workingday  \\\n",
       "0        1  2011-01-01       1   0     1        0        6           0   \n",
       "1        2  2011-01-02       1   0     1        0        0           0   \n",
       "2        3  2011-01-03       1   0     1        0        1           1   \n",
       "3        4  2011-01-04       1   0     1        0        2           1   \n",
       "4        5  2011-01-05       1   0     1        0        3           1   \n",
       "\n",
       "   weathersit      temp     atemp       hum  windspeed  casual  registered  \\\n",
       "0           2  0.344167  0.363625  0.805833   0.160446     331         654   \n",
       "1           2  0.363478  0.353739  0.696087   0.248539     131         670   \n",
       "2           1  0.196364  0.189405  0.437273   0.248309     120        1229   \n",
       "3           1  0.200000  0.212122  0.590435   0.160296     108        1454   \n",
       "4           1  0.226957  0.229270  0.436957   0.186900      82        1518   \n",
       "\n",
       "    cnt  \n",
       "0   985  \n",
       "1   801  \n",
       "2  1349  \n",
       "3  1562  \n",
       "4  1600  "
      ]
     },
     "execution_count": 7,
     "metadata": {},
     "output_type": "execute_result"
    }
   ],
   "source": [
    "day_df = pd.read_csv(\"Bike-sharing-dataset/day.csv\")\n",
    "day_df.head()"
   ]
  },
  {
   "cell_type": "markdown",
   "id": "b33e881e-0034-433e-bc56-0d6ad2685788",
   "metadata": {},
   "source": [
    "The data above shows the bike sharing counts aggregated on daily basis."
   ]
  },
  {
   "cell_type": "code",
   "execution_count": 10,
   "id": "9deb3ba1-fad1-4ed9-9b72-2f4bfe97290b",
   "metadata": {},
   "outputs": [
    {
     "data": {
      "text/html": [
       "<div>\n",
       "<style scoped>\n",
       "    .dataframe tbody tr th:only-of-type {\n",
       "        vertical-align: middle;\n",
       "    }\n",
       "\n",
       "    .dataframe tbody tr th {\n",
       "        vertical-align: top;\n",
       "    }\n",
       "\n",
       "    .dataframe thead th {\n",
       "        text-align: right;\n",
       "    }\n",
       "</style>\n",
       "<table border=\"1\" class=\"dataframe\">\n",
       "  <thead>\n",
       "    <tr style=\"text-align: right;\">\n",
       "      <th></th>\n",
       "      <th>instant</th>\n",
       "      <th>dteday</th>\n",
       "      <th>season</th>\n",
       "      <th>yr</th>\n",
       "      <th>mnth</th>\n",
       "      <th>hr</th>\n",
       "      <th>holiday</th>\n",
       "      <th>weekday</th>\n",
       "      <th>workingday</th>\n",
       "      <th>weathersit</th>\n",
       "      <th>temp</th>\n",
       "      <th>atemp</th>\n",
       "      <th>hum</th>\n",
       "      <th>windspeed</th>\n",
       "      <th>casual</th>\n",
       "      <th>registered</th>\n",
       "      <th>cnt</th>\n",
       "    </tr>\n",
       "  </thead>\n",
       "  <tbody>\n",
       "    <tr>\n",
       "      <th>0</th>\n",
       "      <td>1</td>\n",
       "      <td>2011-01-01</td>\n",
       "      <td>1</td>\n",
       "      <td>0</td>\n",
       "      <td>1</td>\n",
       "      <td>0</td>\n",
       "      <td>0</td>\n",
       "      <td>6</td>\n",
       "      <td>0</td>\n",
       "      <td>1</td>\n",
       "      <td>0.24</td>\n",
       "      <td>0.2879</td>\n",
       "      <td>0.81</td>\n",
       "      <td>0.0</td>\n",
       "      <td>3</td>\n",
       "      <td>13</td>\n",
       "      <td>16</td>\n",
       "    </tr>\n",
       "    <tr>\n",
       "      <th>1</th>\n",
       "      <td>2</td>\n",
       "      <td>2011-01-01</td>\n",
       "      <td>1</td>\n",
       "      <td>0</td>\n",
       "      <td>1</td>\n",
       "      <td>1</td>\n",
       "      <td>0</td>\n",
       "      <td>6</td>\n",
       "      <td>0</td>\n",
       "      <td>1</td>\n",
       "      <td>0.22</td>\n",
       "      <td>0.2727</td>\n",
       "      <td>0.80</td>\n",
       "      <td>0.0</td>\n",
       "      <td>8</td>\n",
       "      <td>32</td>\n",
       "      <td>40</td>\n",
       "    </tr>\n",
       "    <tr>\n",
       "      <th>2</th>\n",
       "      <td>3</td>\n",
       "      <td>2011-01-01</td>\n",
       "      <td>1</td>\n",
       "      <td>0</td>\n",
       "      <td>1</td>\n",
       "      <td>2</td>\n",
       "      <td>0</td>\n",
       "      <td>6</td>\n",
       "      <td>0</td>\n",
       "      <td>1</td>\n",
       "      <td>0.22</td>\n",
       "      <td>0.2727</td>\n",
       "      <td>0.80</td>\n",
       "      <td>0.0</td>\n",
       "      <td>5</td>\n",
       "      <td>27</td>\n",
       "      <td>32</td>\n",
       "    </tr>\n",
       "    <tr>\n",
       "      <th>3</th>\n",
       "      <td>4</td>\n",
       "      <td>2011-01-01</td>\n",
       "      <td>1</td>\n",
       "      <td>0</td>\n",
       "      <td>1</td>\n",
       "      <td>3</td>\n",
       "      <td>0</td>\n",
       "      <td>6</td>\n",
       "      <td>0</td>\n",
       "      <td>1</td>\n",
       "      <td>0.24</td>\n",
       "      <td>0.2879</td>\n",
       "      <td>0.75</td>\n",
       "      <td>0.0</td>\n",
       "      <td>3</td>\n",
       "      <td>10</td>\n",
       "      <td>13</td>\n",
       "    </tr>\n",
       "    <tr>\n",
       "      <th>4</th>\n",
       "      <td>5</td>\n",
       "      <td>2011-01-01</td>\n",
       "      <td>1</td>\n",
       "      <td>0</td>\n",
       "      <td>1</td>\n",
       "      <td>4</td>\n",
       "      <td>0</td>\n",
       "      <td>6</td>\n",
       "      <td>0</td>\n",
       "      <td>1</td>\n",
       "      <td>0.24</td>\n",
       "      <td>0.2879</td>\n",
       "      <td>0.75</td>\n",
       "      <td>0.0</td>\n",
       "      <td>0</td>\n",
       "      <td>1</td>\n",
       "      <td>1</td>\n",
       "    </tr>\n",
       "  </tbody>\n",
       "</table>\n",
       "</div>"
      ],
      "text/plain": [
       "   instant      dteday  season  yr  mnth  hr  holiday  weekday  workingday  \\\n",
       "0        1  2011-01-01       1   0     1   0        0        6           0   \n",
       "1        2  2011-01-01       1   0     1   1        0        6           0   \n",
       "2        3  2011-01-01       1   0     1   2        0        6           0   \n",
       "3        4  2011-01-01       1   0     1   3        0        6           0   \n",
       "4        5  2011-01-01       1   0     1   4        0        6           0   \n",
       "\n",
       "   weathersit  temp   atemp   hum  windspeed  casual  registered  cnt  \n",
       "0           1  0.24  0.2879  0.81        0.0       3          13   16  \n",
       "1           1  0.22  0.2727  0.80        0.0       8          32   40  \n",
       "2           1  0.22  0.2727  0.80        0.0       5          27   32  \n",
       "3           1  0.24  0.2879  0.75        0.0       3          10   13  \n",
       "4           1  0.24  0.2879  0.75        0.0       0           1    1  "
      ]
     },
     "execution_count": 10,
     "metadata": {},
     "output_type": "execute_result"
    }
   ],
   "source": [
    "hour_df = pd.read_csv(\"Bike-sharing-dataset/hour.csv\")\n",
    "hour_df.head()"
   ]
  },
  {
   "cell_type": "markdown",
   "id": "f6bcc236-6c59-45da-85a0-61f14a0cb9d2",
   "metadata": {},
   "source": [
    "The data above shows the bike sharing counts aggregated on hourly basis."
   ]
  },
  {
   "cell_type": "markdown",
   "id": "4cea7d9b-fac3-4419-9186-487cc38d786f",
   "metadata": {},
   "source": [
    "#### Analytical/Business Question\n",
    "After seeing the columns of the data and understanding the meaning, these are the questions that can be asked\n",
    "- What is the monthly trend of bike rentals over the two-year period (2011-2012)?\n",
    "- How does weather condition impact bike rentals over the two-year period (2011-2012)?\n",
    "- What is the daily bike rental pattern on weekdays versus weekends over the two-year period (2011-2012)?"
   ]
  },
  {
   "cell_type": "markdown",
   "id": "4853c02b-fca2-49ca-980e-6921631bb9ac",
   "metadata": {},
   "source": [
    "Now to answer these questions, we don't need the data that's been aggregated on hourly basis, so we'll be using day_df instead"
   ]
  },
  {
   "cell_type": "markdown",
   "id": "7f616cb7-1700-4c0f-b5df-a3813dd1423b",
   "metadata": {},
   "source": [
    "### Asessing Data\n",
    "After reading the data, we now need to assess the data to check the quality and structure of the data, afterwards we need to clean the data"
   ]
  },
  {
   "cell_type": "code",
   "execution_count": 14,
   "id": "13ca63b6-2cce-484b-80f4-e2393927257c",
   "metadata": {},
   "outputs": [
    {
     "name": "stdout",
     "output_type": "stream",
     "text": [
      "<class 'pandas.core.frame.DataFrame'>\n",
      "RangeIndex: 731 entries, 0 to 730\n",
      "Data columns (total 16 columns):\n",
      " #   Column      Non-Null Count  Dtype  \n",
      "---  ------      --------------  -----  \n",
      " 0   instant     731 non-null    int64  \n",
      " 1   dteday      731 non-null    object \n",
      " 2   season      731 non-null    int64  \n",
      " 3   yr          731 non-null    int64  \n",
      " 4   mnth        731 non-null    int64  \n",
      " 5   holiday     731 non-null    int64  \n",
      " 6   weekday     731 non-null    int64  \n",
      " 7   workingday  731 non-null    int64  \n",
      " 8   weathersit  731 non-null    int64  \n",
      " 9   temp        731 non-null    float64\n",
      " 10  atemp       731 non-null    float64\n",
      " 11  hum         731 non-null    float64\n",
      " 12  windspeed   731 non-null    float64\n",
      " 13  casual      731 non-null    int64  \n",
      " 14  registered  731 non-null    int64  \n",
      " 15  cnt         731 non-null    int64  \n",
      "dtypes: float64(4), int64(11), object(1)\n",
      "memory usage: 91.5+ KB\n"
     ]
    }
   ],
   "source": [
    "day_df.info()"
   ]
  },
  {
   "cell_type": "markdown",
   "id": "dd03a73d-cf98-49b6-91bf-1c9810220432",
   "metadata": {},
   "source": [
    "We can see that some categorical columns data types are int64 not categorical, therefor we need to change them"
   ]
  },
  {
   "cell_type": "markdown",
   "id": "7a0c9e87-b031-43e5-8e54-db49943c0052",
   "metadata": {},
   "source": [
    "#### Checking for missing values"
   ]
  },
  {
   "cell_type": "code",
   "execution_count": 16,
   "id": "8f1cade2-5166-43b1-94a5-b44a179b78cc",
   "metadata": {},
   "outputs": [
    {
     "data": {
      "text/plain": [
       "instant       0\n",
       "dteday        0\n",
       "season        0\n",
       "yr            0\n",
       "mnth          0\n",
       "holiday       0\n",
       "weekday       0\n",
       "workingday    0\n",
       "weathersit    0\n",
       "temp          0\n",
       "atemp         0\n",
       "hum           0\n",
       "windspeed     0\n",
       "casual        0\n",
       "registered    0\n",
       "cnt           0\n",
       "dtype: int64"
      ]
     },
     "execution_count": 16,
     "metadata": {},
     "output_type": "execute_result"
    }
   ],
   "source": [
    "day_df.isna().sum()"
   ]
  },
  {
   "cell_type": "markdown",
   "id": "b76440f9-5a2b-4d11-9d9a-9f77c83b0e57",
   "metadata": {},
   "source": [
    "### Cleaning Data"
   ]
  },
  {
   "cell_type": "markdown",
   "id": "ef022fe2-1abd-4500-ab41-c3bda19fd993",
   "metadata": {},
   "source": [
    "#### Changing data types"
   ]
  },
  {
   "cell_type": "code",
   "execution_count": 20,
   "id": "c8a1627f-b190-49c7-b0fb-5040682f7477",
   "metadata": {},
   "outputs": [],
   "source": [
    "cols = ['season' , 'mnth' , 'holiday' , 'holiday' , 'weekday' , 'workingday' , 'weathersit']"
   ]
  },
  {
   "cell_type": "code",
   "execution_count": 21,
   "id": "7aa6d0c5-bc70-4539-bf70-3395a2e20217",
   "metadata": {},
   "outputs": [],
   "source": [
    "for col in cols:\n",
    "    day_df[col] = day_df[col].astype('category')"
   ]
  },
  {
   "cell_type": "code",
   "execution_count": 22,
   "id": "935558c5-1951-41e9-82e5-849c589f3f4c",
   "metadata": {},
   "outputs": [
    {
     "name": "stdout",
     "output_type": "stream",
     "text": [
      "<class 'pandas.core.frame.DataFrame'>\n",
      "RangeIndex: 731 entries, 0 to 730\n",
      "Data columns (total 16 columns):\n",
      " #   Column      Non-Null Count  Dtype   \n",
      "---  ------      --------------  -----   \n",
      " 0   instant     731 non-null    int64   \n",
      " 1   dteday      731 non-null    object  \n",
      " 2   season      731 non-null    category\n",
      " 3   yr          731 non-null    int64   \n",
      " 4   mnth        731 non-null    category\n",
      " 5   holiday     731 non-null    category\n",
      " 6   weekday     731 non-null    category\n",
      " 7   workingday  731 non-null    category\n",
      " 8   weathersit  731 non-null    category\n",
      " 9   temp        731 non-null    float64 \n",
      " 10  atemp       731 non-null    float64 \n",
      " 11  hum         731 non-null    float64 \n",
      " 12  windspeed   731 non-null    float64 \n",
      " 13  casual      731 non-null    int64   \n",
      " 14  registered  731 non-null    int64   \n",
      " 15  cnt         731 non-null    int64   \n",
      "dtypes: category(6), float64(4), int64(5), object(1)\n",
      "memory usage: 62.8+ KB\n"
     ]
    }
   ],
   "source": [
    "day_df.info()"
   ]
  },
  {
   "cell_type": "markdown",
   "id": "eeeb4814-1c6d-4045-919a-3c025463ca49",
   "metadata": {},
   "source": [
    "After checking for nulls, the data doesn't have any missing value"
   ]
  },
  {
   "cell_type": "code",
   "execution_count": 28,
   "id": "6fa163df-6e2e-4cb9-9d9f-140a7a87a4d0",
   "metadata": {},
   "outputs": [],
   "source": [
    "df = day_df\n",
    "# renaming the day_df for simplicity sake"
   ]
  },
  {
   "cell_type": "code",
   "execution_count": 31,
   "id": "92104370-9ac0-4a78-bf6e-a9871ca062ad",
   "metadata": {},
   "outputs": [
    {
     "data": {
      "text/html": [
       "<div>\n",
       "<style scoped>\n",
       "    .dataframe tbody tr th:only-of-type {\n",
       "        vertical-align: middle;\n",
       "    }\n",
       "\n",
       "    .dataframe tbody tr th {\n",
       "        vertical-align: top;\n",
       "    }\n",
       "\n",
       "    .dataframe thead th {\n",
       "        text-align: right;\n",
       "    }\n",
       "</style>\n",
       "<table border=\"1\" class=\"dataframe\">\n",
       "  <thead>\n",
       "    <tr style=\"text-align: right;\">\n",
       "      <th></th>\n",
       "      <th>dteday</th>\n",
       "      <th>season</th>\n",
       "      <th>yr</th>\n",
       "      <th>mnth</th>\n",
       "      <th>holiday</th>\n",
       "      <th>weekday</th>\n",
       "      <th>workingday</th>\n",
       "      <th>weathersit</th>\n",
       "      <th>temp</th>\n",
       "      <th>atemp</th>\n",
       "      <th>hum</th>\n",
       "      <th>windspeed</th>\n",
       "      <th>casual</th>\n",
       "      <th>registered</th>\n",
       "      <th>cnt</th>\n",
       "    </tr>\n",
       "  </thead>\n",
       "  <tbody>\n",
       "    <tr>\n",
       "      <th>0</th>\n",
       "      <td>2011-01-01</td>\n",
       "      <td>1</td>\n",
       "      <td>0</td>\n",
       "      <td>1</td>\n",
       "      <td>0</td>\n",
       "      <td>6</td>\n",
       "      <td>0</td>\n",
       "      <td>2</td>\n",
       "      <td>0.344167</td>\n",
       "      <td>0.363625</td>\n",
       "      <td>0.805833</td>\n",
       "      <td>0.160446</td>\n",
       "      <td>331</td>\n",
       "      <td>654</td>\n",
       "      <td>985</td>\n",
       "    </tr>\n",
       "    <tr>\n",
       "      <th>1</th>\n",
       "      <td>2011-01-02</td>\n",
       "      <td>1</td>\n",
       "      <td>0</td>\n",
       "      <td>1</td>\n",
       "      <td>0</td>\n",
       "      <td>0</td>\n",
       "      <td>0</td>\n",
       "      <td>2</td>\n",
       "      <td>0.363478</td>\n",
       "      <td>0.353739</td>\n",
       "      <td>0.696087</td>\n",
       "      <td>0.248539</td>\n",
       "      <td>131</td>\n",
       "      <td>670</td>\n",
       "      <td>801</td>\n",
       "    </tr>\n",
       "    <tr>\n",
       "      <th>2</th>\n",
       "      <td>2011-01-03</td>\n",
       "      <td>1</td>\n",
       "      <td>0</td>\n",
       "      <td>1</td>\n",
       "      <td>0</td>\n",
       "      <td>1</td>\n",
       "      <td>1</td>\n",
       "      <td>1</td>\n",
       "      <td>0.196364</td>\n",
       "      <td>0.189405</td>\n",
       "      <td>0.437273</td>\n",
       "      <td>0.248309</td>\n",
       "      <td>120</td>\n",
       "      <td>1229</td>\n",
       "      <td>1349</td>\n",
       "    </tr>\n",
       "    <tr>\n",
       "      <th>3</th>\n",
       "      <td>2011-01-04</td>\n",
       "      <td>1</td>\n",
       "      <td>0</td>\n",
       "      <td>1</td>\n",
       "      <td>0</td>\n",
       "      <td>2</td>\n",
       "      <td>1</td>\n",
       "      <td>1</td>\n",
       "      <td>0.200000</td>\n",
       "      <td>0.212122</td>\n",
       "      <td>0.590435</td>\n",
       "      <td>0.160296</td>\n",
       "      <td>108</td>\n",
       "      <td>1454</td>\n",
       "      <td>1562</td>\n",
       "    </tr>\n",
       "    <tr>\n",
       "      <th>4</th>\n",
       "      <td>2011-01-05</td>\n",
       "      <td>1</td>\n",
       "      <td>0</td>\n",
       "      <td>1</td>\n",
       "      <td>0</td>\n",
       "      <td>3</td>\n",
       "      <td>1</td>\n",
       "      <td>1</td>\n",
       "      <td>0.226957</td>\n",
       "      <td>0.229270</td>\n",
       "      <td>0.436957</td>\n",
       "      <td>0.186900</td>\n",
       "      <td>82</td>\n",
       "      <td>1518</td>\n",
       "      <td>1600</td>\n",
       "    </tr>\n",
       "  </tbody>\n",
       "</table>\n",
       "</div>"
      ],
      "text/plain": [
       "       dteday season  yr mnth holiday weekday workingday weathersit      temp  \\\n",
       "0  2011-01-01      1   0    1       0       6          0          2  0.344167   \n",
       "1  2011-01-02      1   0    1       0       0          0          2  0.363478   \n",
       "2  2011-01-03      1   0    1       0       1          1          1  0.196364   \n",
       "3  2011-01-04      1   0    1       0       2          1          1  0.200000   \n",
       "4  2011-01-05      1   0    1       0       3          1          1  0.226957   \n",
       "\n",
       "      atemp       hum  windspeed  casual  registered   cnt  \n",
       "0  0.363625  0.805833   0.160446     331         654   985  \n",
       "1  0.353739  0.696087   0.248539     131         670   801  \n",
       "2  0.189405  0.437273   0.248309     120        1229  1349  \n",
       "3  0.212122  0.590435   0.160296     108        1454  1562  \n",
       "4  0.229270  0.436957   0.186900      82        1518  1600  "
      ]
     },
     "execution_count": 31,
     "metadata": {},
     "output_type": "execute_result"
    }
   ],
   "source": [
    "# We can drop the column instant as we won't be needing it\n",
    "df = df.drop(\"instant\", axis=1)\n",
    "df.head()"
   ]
  },
  {
   "cell_type": "markdown",
   "id": "d433c6b0-bc3d-40ad-bee8-0abfceb1c03b",
   "metadata": {},
   "source": [
    "#### Renaming columns"
   ]
  },
  {
   "cell_type": "code",
   "execution_count": 32,
   "id": "a3030dc0-c2bf-4369-a7a4-70cbf8f6bdb4",
   "metadata": {},
   "outputs": [],
   "source": [
    "df.rename(columns={\n",
    "    \"dteday\" : \"date\",\n",
    "    \"yr\" : \"year\",\n",
    "    \"mnth\" : \"month\",\n",
    "    \"weathersit\" : \"weather\",\n",
    "    \"hum\" : \"humidity\",\n",
    "    \"cnt\" : \"total_count\"}, inplace=True\n",
    ")"
   ]
  },
  {
   "cell_type": "markdown",
   "id": "92920af9-290a-458e-9dd1-bbbfcc2f730b",
   "metadata": {},
   "source": [
    "#### Convert values to what it should have been"
   ]
  },
  {
   "cell_type": "code",
   "execution_count": 34,
   "id": "dd919392-fa64-47b7-ae4f-51eb28182d49",
   "metadata": {},
   "outputs": [],
   "source": [
    "df.season.replace((1,2,3,4), ('Winter','Spring','Summer','Fall'), inplace=True)\n",
    "df.year.replace((0,1), (2011,2012), inplace=True)\n",
    "df.month.replace((1,2,3,4,5,6,7,8,9,10,11,12),('Jan','Feb','Mar','Apr','May','Jun','Jul','Aug','Sep','Oct','Nov','Dec'), inplace=True)\n",
    "df.weather.replace((1,2,3,4), ('Clear','Misty','Light_RainSnow','Heavy_RainSnow'), inplace=True)\n",
    "df.weekday.replace((0,1,2,3,4,5,6), ('Sunday','Monday','Tuesday','Wednesday','Thursday','Friday','Saturday'), inplace=True)\n",
    "df.workingday.replace((0,1), ('No', 'Yes'), inplace=True)"
   ]
  },
  {
   "cell_type": "code",
   "execution_count": 38,
   "id": "7c9a330c-bbe6-4295-a164-df742f0163d6",
   "metadata": {},
   "outputs": [],
   "source": [
    "# These values has been divided, so we need to multiply them back\n",
    "df['temp'] = df['temp']*41\n",
    "df['atemp'] = df['atemp']*50\n",
    "df['humidity'] = df['humidity']*100\n",
    "df['windspeed'] = df['windspeed']*67"
   ]
  },
  {
   "cell_type": "code",
   "execution_count": 40,
   "id": "e529f8aa-4d6b-40f0-ae91-43c91aa8bac0",
   "metadata": {},
   "outputs": [
    {
     "data": {
      "text/html": [
       "<div>\n",
       "<style scoped>\n",
       "    .dataframe tbody tr th:only-of-type {\n",
       "        vertical-align: middle;\n",
       "    }\n",
       "\n",
       "    .dataframe tbody tr th {\n",
       "        vertical-align: top;\n",
       "    }\n",
       "\n",
       "    .dataframe thead th {\n",
       "        text-align: right;\n",
       "    }\n",
       "</style>\n",
       "<table border=\"1\" class=\"dataframe\">\n",
       "  <thead>\n",
       "    <tr style=\"text-align: right;\">\n",
       "      <th></th>\n",
       "      <th>date</th>\n",
       "      <th>season</th>\n",
       "      <th>year</th>\n",
       "      <th>month</th>\n",
       "      <th>holiday</th>\n",
       "      <th>weekday</th>\n",
       "      <th>workingday</th>\n",
       "      <th>weather</th>\n",
       "      <th>temp</th>\n",
       "      <th>atemp</th>\n",
       "      <th>humidity</th>\n",
       "      <th>windspeed</th>\n",
       "      <th>casual</th>\n",
       "      <th>registered</th>\n",
       "      <th>total_count</th>\n",
       "    </tr>\n",
       "  </thead>\n",
       "  <tbody>\n",
       "    <tr>\n",
       "      <th>0</th>\n",
       "      <td>2011-01-01</td>\n",
       "      <td>Winter</td>\n",
       "      <td>2011</td>\n",
       "      <td>Jan</td>\n",
       "      <td>0</td>\n",
       "      <td>Saturday</td>\n",
       "      <td>No</td>\n",
       "      <td>Misty</td>\n",
       "      <td>14.110847</td>\n",
       "      <td>18.18125</td>\n",
       "      <td>80.5833</td>\n",
       "      <td>10.749882</td>\n",
       "      <td>331</td>\n",
       "      <td>654</td>\n",
       "      <td>985</td>\n",
       "    </tr>\n",
       "    <tr>\n",
       "      <th>1</th>\n",
       "      <td>2011-01-02</td>\n",
       "      <td>Winter</td>\n",
       "      <td>2011</td>\n",
       "      <td>Jan</td>\n",
       "      <td>0</td>\n",
       "      <td>Sunday</td>\n",
       "      <td>No</td>\n",
       "      <td>Misty</td>\n",
       "      <td>14.902598</td>\n",
       "      <td>17.68695</td>\n",
       "      <td>69.6087</td>\n",
       "      <td>16.652113</td>\n",
       "      <td>131</td>\n",
       "      <td>670</td>\n",
       "      <td>801</td>\n",
       "    </tr>\n",
       "    <tr>\n",
       "      <th>2</th>\n",
       "      <td>2011-01-03</td>\n",
       "      <td>Winter</td>\n",
       "      <td>2011</td>\n",
       "      <td>Jan</td>\n",
       "      <td>0</td>\n",
       "      <td>Monday</td>\n",
       "      <td>Yes</td>\n",
       "      <td>Clear</td>\n",
       "      <td>8.050924</td>\n",
       "      <td>9.47025</td>\n",
       "      <td>43.7273</td>\n",
       "      <td>16.636703</td>\n",
       "      <td>120</td>\n",
       "      <td>1229</td>\n",
       "      <td>1349</td>\n",
       "    </tr>\n",
       "    <tr>\n",
       "      <th>3</th>\n",
       "      <td>2011-01-04</td>\n",
       "      <td>Winter</td>\n",
       "      <td>2011</td>\n",
       "      <td>Jan</td>\n",
       "      <td>0</td>\n",
       "      <td>Tuesday</td>\n",
       "      <td>Yes</td>\n",
       "      <td>Clear</td>\n",
       "      <td>8.200000</td>\n",
       "      <td>10.60610</td>\n",
       "      <td>59.0435</td>\n",
       "      <td>10.739832</td>\n",
       "      <td>108</td>\n",
       "      <td>1454</td>\n",
       "      <td>1562</td>\n",
       "    </tr>\n",
       "    <tr>\n",
       "      <th>4</th>\n",
       "      <td>2011-01-05</td>\n",
       "      <td>Winter</td>\n",
       "      <td>2011</td>\n",
       "      <td>Jan</td>\n",
       "      <td>0</td>\n",
       "      <td>Wednesday</td>\n",
       "      <td>Yes</td>\n",
       "      <td>Clear</td>\n",
       "      <td>9.305237</td>\n",
       "      <td>11.46350</td>\n",
       "      <td>43.6957</td>\n",
       "      <td>12.522300</td>\n",
       "      <td>82</td>\n",
       "      <td>1518</td>\n",
       "      <td>1600</td>\n",
       "    </tr>\n",
       "  </tbody>\n",
       "</table>\n",
       "</div>"
      ],
      "text/plain": [
       "         date  season  year month holiday    weekday workingday weather  \\\n",
       "0  2011-01-01  Winter  2011   Jan       0   Saturday         No   Misty   \n",
       "1  2011-01-02  Winter  2011   Jan       0     Sunday         No   Misty   \n",
       "2  2011-01-03  Winter  2011   Jan       0     Monday        Yes   Clear   \n",
       "3  2011-01-04  Winter  2011   Jan       0    Tuesday        Yes   Clear   \n",
       "4  2011-01-05  Winter  2011   Jan       0  Wednesday        Yes   Clear   \n",
       "\n",
       "        temp     atemp  humidity  windspeed  casual  registered  total_count  \n",
       "0  14.110847  18.18125   80.5833  10.749882     331         654          985  \n",
       "1  14.902598  17.68695   69.6087  16.652113     131         670          801  \n",
       "2   8.050924   9.47025   43.7273  16.636703     120        1229         1349  \n",
       "3   8.200000  10.60610   59.0435  10.739832     108        1454         1562  \n",
       "4   9.305237  11.46350   43.6957  12.522300      82        1518         1600  "
      ]
     },
     "execution_count": 40,
     "metadata": {},
     "output_type": "execute_result"
    }
   ],
   "source": [
    "df.head()"
   ]
  },
  {
   "cell_type": "code",
   "execution_count": 88,
   "id": "8411d950-c21a-4829-9b78-4fc5a4926741",
   "metadata": {},
   "outputs": [
    {
     "name": "stdout",
     "output_type": "stream",
     "text": [
      "<class 'pandas.core.frame.DataFrame'>\n",
      "RangeIndex: 731 entries, 0 to 730\n",
      "Data columns (total 15 columns):\n",
      " #   Column       Non-Null Count  Dtype         \n",
      "---  ------       --------------  -----         \n",
      " 0   date         731 non-null    datetime64[ns]\n",
      " 1   season       731 non-null    category      \n",
      " 2   year         731 non-null    int64         \n",
      " 3   month        731 non-null    int64         \n",
      " 4   holiday      731 non-null    category      \n",
      " 5   weekday      731 non-null    object        \n",
      " 6   workingday   731 non-null    category      \n",
      " 7   weather      731 non-null    category      \n",
      " 8   temp         731 non-null    float64       \n",
      " 9   atemp        731 non-null    float64       \n",
      " 10  humidity     731 non-null    float64       \n",
      " 11  windspeed    731 non-null    float64       \n",
      " 12  casual       731 non-null    int64         \n",
      " 13  registered   731 non-null    int64         \n",
      " 14  total_count  731 non-null    int64         \n",
      "dtypes: category(4), datetime64[ns](1), float64(4), int64(5), object(1)\n",
      "memory usage: 66.4+ KB\n"
     ]
    }
   ],
   "source": [
    "df.info()"
   ]
  },
  {
   "cell_type": "markdown",
   "id": "4cc2c42b-9ade-4a99-a8fa-7bf010627e48",
   "metadata": {},
   "source": [
    "## Exploratory Data Analysis (EDA)"
   ]
  },
  {
   "cell_type": "code",
   "execution_count": 57,
   "id": "31a02077-3690-401e-970b-bce7e4b9ba89",
   "metadata": {},
   "outputs": [
    {
     "data": {
      "text/html": [
       "<div>\n",
       "<style scoped>\n",
       "    .dataframe tbody tr th:only-of-type {\n",
       "        vertical-align: middle;\n",
       "    }\n",
       "\n",
       "    .dataframe tbody tr th {\n",
       "        vertical-align: top;\n",
       "    }\n",
       "\n",
       "    .dataframe thead th {\n",
       "        text-align: right;\n",
       "    }\n",
       "</style>\n",
       "<table border=\"1\" class=\"dataframe\">\n",
       "  <thead>\n",
       "    <tr style=\"text-align: right;\">\n",
       "      <th></th>\n",
       "      <th>year</th>\n",
       "      <th>month</th>\n",
       "      <th>temp</th>\n",
       "      <th>atemp</th>\n",
       "      <th>humidity</th>\n",
       "      <th>windspeed</th>\n",
       "      <th>casual</th>\n",
       "      <th>registered</th>\n",
       "      <th>total_count</th>\n",
       "    </tr>\n",
       "  </thead>\n",
       "  <tbody>\n",
       "    <tr>\n",
       "      <th>count</th>\n",
       "      <td>731.000000</td>\n",
       "      <td>731.000000</td>\n",
       "      <td>731.000000</td>\n",
       "      <td>731.000000</td>\n",
       "      <td>731.000000</td>\n",
       "      <td>731.000000</td>\n",
       "      <td>731.000000</td>\n",
       "      <td>731.000000</td>\n",
       "      <td>731.000000</td>\n",
       "    </tr>\n",
       "    <tr>\n",
       "      <th>mean</th>\n",
       "      <td>2011.500684</td>\n",
       "      <td>6.519836</td>\n",
       "      <td>20.310776</td>\n",
       "      <td>23.717699</td>\n",
       "      <td>62.789406</td>\n",
       "      <td>12.762576</td>\n",
       "      <td>848.176471</td>\n",
       "      <td>3656.172367</td>\n",
       "      <td>4504.348837</td>\n",
       "    </tr>\n",
       "    <tr>\n",
       "      <th>std</th>\n",
       "      <td>0.500342</td>\n",
       "      <td>3.451913</td>\n",
       "      <td>7.505091</td>\n",
       "      <td>8.148059</td>\n",
       "      <td>14.242910</td>\n",
       "      <td>5.192357</td>\n",
       "      <td>686.622488</td>\n",
       "      <td>1560.256377</td>\n",
       "      <td>1937.211452</td>\n",
       "    </tr>\n",
       "    <tr>\n",
       "      <th>min</th>\n",
       "      <td>2011.000000</td>\n",
       "      <td>1.000000</td>\n",
       "      <td>2.424346</td>\n",
       "      <td>3.953480</td>\n",
       "      <td>0.000000</td>\n",
       "      <td>1.500244</td>\n",
       "      <td>2.000000</td>\n",
       "      <td>20.000000</td>\n",
       "      <td>22.000000</td>\n",
       "    </tr>\n",
       "    <tr>\n",
       "      <th>25%</th>\n",
       "      <td>2011.000000</td>\n",
       "      <td>4.000000</td>\n",
       "      <td>13.820424</td>\n",
       "      <td>16.892125</td>\n",
       "      <td>52.000000</td>\n",
       "      <td>9.041650</td>\n",
       "      <td>315.500000</td>\n",
       "      <td>2497.000000</td>\n",
       "      <td>3152.000000</td>\n",
       "    </tr>\n",
       "    <tr>\n",
       "      <th>50%</th>\n",
       "      <td>2012.000000</td>\n",
       "      <td>7.000000</td>\n",
       "      <td>20.431653</td>\n",
       "      <td>24.336650</td>\n",
       "      <td>62.666700</td>\n",
       "      <td>12.125325</td>\n",
       "      <td>713.000000</td>\n",
       "      <td>3662.000000</td>\n",
       "      <td>4548.000000</td>\n",
       "    </tr>\n",
       "    <tr>\n",
       "      <th>75%</th>\n",
       "      <td>2012.000000</td>\n",
       "      <td>10.000000</td>\n",
       "      <td>26.872076</td>\n",
       "      <td>30.430100</td>\n",
       "      <td>73.020850</td>\n",
       "      <td>15.625371</td>\n",
       "      <td>1096.000000</td>\n",
       "      <td>4776.500000</td>\n",
       "      <td>5956.000000</td>\n",
       "    </tr>\n",
       "    <tr>\n",
       "      <th>max</th>\n",
       "      <td>2012.000000</td>\n",
       "      <td>12.000000</td>\n",
       "      <td>35.328347</td>\n",
       "      <td>42.044800</td>\n",
       "      <td>97.250000</td>\n",
       "      <td>34.000021</td>\n",
       "      <td>3410.000000</td>\n",
       "      <td>6946.000000</td>\n",
       "      <td>8714.000000</td>\n",
       "    </tr>\n",
       "  </tbody>\n",
       "</table>\n",
       "</div>"
      ],
      "text/plain": [
       "              year       month        temp       atemp    humidity  \\\n",
       "count   731.000000  731.000000  731.000000  731.000000  731.000000   \n",
       "mean   2011.500684    6.519836   20.310776   23.717699   62.789406   \n",
       "std       0.500342    3.451913    7.505091    8.148059   14.242910   \n",
       "min    2011.000000    1.000000    2.424346    3.953480    0.000000   \n",
       "25%    2011.000000    4.000000   13.820424   16.892125   52.000000   \n",
       "50%    2012.000000    7.000000   20.431653   24.336650   62.666700   \n",
       "75%    2012.000000   10.000000   26.872076   30.430100   73.020850   \n",
       "max    2012.000000   12.000000   35.328347   42.044800   97.250000   \n",
       "\n",
       "        windspeed       casual   registered  total_count  \n",
       "count  731.000000   731.000000   731.000000   731.000000  \n",
       "mean    12.762576   848.176471  3656.172367  4504.348837  \n",
       "std      5.192357   686.622488  1560.256377  1937.211452  \n",
       "min      1.500244     2.000000    20.000000    22.000000  \n",
       "25%      9.041650   315.500000  2497.000000  3152.000000  \n",
       "50%     12.125325   713.000000  3662.000000  4548.000000  \n",
       "75%     15.625371  1096.000000  4776.500000  5956.000000  \n",
       "max     34.000021  3410.000000  6946.000000  8714.000000  "
      ]
     },
     "execution_count": 57,
     "metadata": {},
     "output_type": "execute_result"
    }
   ],
   "source": [
    "df.describe()"
   ]
  },
  {
   "cell_type": "code",
   "execution_count": 58,
   "id": "8d8c4bc1-c32e-488e-91ca-adfb4fae1380",
   "metadata": {},
   "outputs": [
    {
     "name": "stderr",
     "output_type": "stream",
     "text": [
      "<ipython-input-58-2f6f6606aa2c>:1: FutureWarning: The default value of numeric_only in DataFrame.corr is deprecated. In a future version, it will default to False. Select only valid columns or specify the value of numeric_only to silence this warning.\n",
      "  df.corr()\n"
     ]
    },
    {
     "data": {
      "text/html": [
       "<div>\n",
       "<style scoped>\n",
       "    .dataframe tbody tr th:only-of-type {\n",
       "        vertical-align: middle;\n",
       "    }\n",
       "\n",
       "    .dataframe tbody tr th {\n",
       "        vertical-align: top;\n",
       "    }\n",
       "\n",
       "    .dataframe thead th {\n",
       "        text-align: right;\n",
       "    }\n",
       "</style>\n",
       "<table border=\"1\" class=\"dataframe\">\n",
       "  <thead>\n",
       "    <tr style=\"text-align: right;\">\n",
       "      <th></th>\n",
       "      <th>year</th>\n",
       "      <th>month</th>\n",
       "      <th>temp</th>\n",
       "      <th>atemp</th>\n",
       "      <th>humidity</th>\n",
       "      <th>windspeed</th>\n",
       "      <th>casual</th>\n",
       "      <th>registered</th>\n",
       "      <th>total_count</th>\n",
       "    </tr>\n",
       "  </thead>\n",
       "  <tbody>\n",
       "    <tr>\n",
       "      <th>year</th>\n",
       "      <td>1.000000</td>\n",
       "      <td>-0.001792</td>\n",
       "      <td>0.047604</td>\n",
       "      <td>0.046106</td>\n",
       "      <td>-0.110651</td>\n",
       "      <td>-0.011817</td>\n",
       "      <td>0.248546</td>\n",
       "      <td>0.594248</td>\n",
       "      <td>0.566710</td>\n",
       "    </tr>\n",
       "    <tr>\n",
       "      <th>month</th>\n",
       "      <td>-0.001792</td>\n",
       "      <td>1.000000</td>\n",
       "      <td>0.220205</td>\n",
       "      <td>0.227459</td>\n",
       "      <td>0.222204</td>\n",
       "      <td>-0.207502</td>\n",
       "      <td>0.123006</td>\n",
       "      <td>0.293488</td>\n",
       "      <td>0.279977</td>\n",
       "    </tr>\n",
       "    <tr>\n",
       "      <th>temp</th>\n",
       "      <td>0.047604</td>\n",
       "      <td>0.220205</td>\n",
       "      <td>1.000000</td>\n",
       "      <td>0.991702</td>\n",
       "      <td>0.126963</td>\n",
       "      <td>-0.157944</td>\n",
       "      <td>0.543285</td>\n",
       "      <td>0.540012</td>\n",
       "      <td>0.627494</td>\n",
       "    </tr>\n",
       "    <tr>\n",
       "      <th>atemp</th>\n",
       "      <td>0.046106</td>\n",
       "      <td>0.227459</td>\n",
       "      <td>0.991702</td>\n",
       "      <td>1.000000</td>\n",
       "      <td>0.139988</td>\n",
       "      <td>-0.183643</td>\n",
       "      <td>0.543864</td>\n",
       "      <td>0.544192</td>\n",
       "      <td>0.631066</td>\n",
       "    </tr>\n",
       "    <tr>\n",
       "      <th>humidity</th>\n",
       "      <td>-0.110651</td>\n",
       "      <td>0.222204</td>\n",
       "      <td>0.126963</td>\n",
       "      <td>0.139988</td>\n",
       "      <td>1.000000</td>\n",
       "      <td>-0.248489</td>\n",
       "      <td>-0.077008</td>\n",
       "      <td>-0.091089</td>\n",
       "      <td>-0.100659</td>\n",
       "    </tr>\n",
       "    <tr>\n",
       "      <th>windspeed</th>\n",
       "      <td>-0.011817</td>\n",
       "      <td>-0.207502</td>\n",
       "      <td>-0.157944</td>\n",
       "      <td>-0.183643</td>\n",
       "      <td>-0.248489</td>\n",
       "      <td>1.000000</td>\n",
       "      <td>-0.167613</td>\n",
       "      <td>-0.217449</td>\n",
       "      <td>-0.234545</td>\n",
       "    </tr>\n",
       "    <tr>\n",
       "      <th>casual</th>\n",
       "      <td>0.248546</td>\n",
       "      <td>0.123006</td>\n",
       "      <td>0.543285</td>\n",
       "      <td>0.543864</td>\n",
       "      <td>-0.077008</td>\n",
       "      <td>-0.167613</td>\n",
       "      <td>1.000000</td>\n",
       "      <td>0.395282</td>\n",
       "      <td>0.672804</td>\n",
       "    </tr>\n",
       "    <tr>\n",
       "      <th>registered</th>\n",
       "      <td>0.594248</td>\n",
       "      <td>0.293488</td>\n",
       "      <td>0.540012</td>\n",
       "      <td>0.544192</td>\n",
       "      <td>-0.091089</td>\n",
       "      <td>-0.217449</td>\n",
       "      <td>0.395282</td>\n",
       "      <td>1.000000</td>\n",
       "      <td>0.945517</td>\n",
       "    </tr>\n",
       "    <tr>\n",
       "      <th>total_count</th>\n",
       "      <td>0.566710</td>\n",
       "      <td>0.279977</td>\n",
       "      <td>0.627494</td>\n",
       "      <td>0.631066</td>\n",
       "      <td>-0.100659</td>\n",
       "      <td>-0.234545</td>\n",
       "      <td>0.672804</td>\n",
       "      <td>0.945517</td>\n",
       "      <td>1.000000</td>\n",
       "    </tr>\n",
       "  </tbody>\n",
       "</table>\n",
       "</div>"
      ],
      "text/plain": [
       "                 year     month      temp     atemp  humidity  windspeed  \\\n",
       "year         1.000000 -0.001792  0.047604  0.046106 -0.110651  -0.011817   \n",
       "month       -0.001792  1.000000  0.220205  0.227459  0.222204  -0.207502   \n",
       "temp         0.047604  0.220205  1.000000  0.991702  0.126963  -0.157944   \n",
       "atemp        0.046106  0.227459  0.991702  1.000000  0.139988  -0.183643   \n",
       "humidity    -0.110651  0.222204  0.126963  0.139988  1.000000  -0.248489   \n",
       "windspeed   -0.011817 -0.207502 -0.157944 -0.183643 -0.248489   1.000000   \n",
       "casual       0.248546  0.123006  0.543285  0.543864 -0.077008  -0.167613   \n",
       "registered   0.594248  0.293488  0.540012  0.544192 -0.091089  -0.217449   \n",
       "total_count  0.566710  0.279977  0.627494  0.631066 -0.100659  -0.234545   \n",
       "\n",
       "               casual  registered  total_count  \n",
       "year         0.248546    0.594248     0.566710  \n",
       "month        0.123006    0.293488     0.279977  \n",
       "temp         0.543285    0.540012     0.627494  \n",
       "atemp        0.543864    0.544192     0.631066  \n",
       "humidity    -0.077008   -0.091089    -0.100659  \n",
       "windspeed   -0.167613   -0.217449    -0.234545  \n",
       "casual       1.000000    0.395282     0.672804  \n",
       "registered   0.395282    1.000000     0.945517  \n",
       "total_count  0.672804    0.945517     1.000000  "
      ]
     },
     "execution_count": 58,
     "metadata": {},
     "output_type": "execute_result"
    }
   ],
   "source": [
    "df.corr()"
   ]
  },
  {
   "cell_type": "markdown",
   "id": "4534d9db-4921-4f13-93e3-e109284c3c5b",
   "metadata": {},
   "source": [
    "## Visualization & Explanatory Analysis"
   ]
  },
  {
   "cell_type": "markdown",
   "id": "feb0efc3-fad1-4108-abe6-99bef8d010ac",
   "metadata": {},
   "source": [
    "### Question 1 : What is the monthly trend of bike rentals over the two-year period (2011-2012)?"
   ]
  },
  {
   "cell_type": "code",
   "execution_count": 45,
   "id": "875abe29-5067-4308-a231-9bfbb23584a9",
   "metadata": {},
   "outputs": [],
   "source": [
    "# We forgot to convert 'date' column to datetime format so we convert it now\n",
    "df['date'] = pd.to_datetime(df['date'])\n",
    "\n",
    "# Extract month and year from the 'date' column\n",
    "df['month'] = df['date'].dt.month\n",
    "df['year'] = df['date'].dt.year\n",
    "\n",
    "# Group by year and month, and calculate the total rental counts\n",
    "monthly_rentals = df.groupby(['year', 'month'])['total_count'].sum().reset_index()\n",
    "\n",
    "# Convert year and month back to a datetime format\n",
    "monthly_rentals['date'] = pd.to_datetime(monthly_rentals[['year', 'month']].assign(day=1))\n"
   ]
  },
  {
   "cell_type": "code",
   "execution_count": 46,
   "id": "2cf70339-10ad-4671-b803-d2f10f424376",
   "metadata": {},
   "outputs": [
    {
     "data": {
      "image/png": "[encoded data removed]",
      "text/plain": [
       "<Figure size 720x432 with 1 Axes>"
      ]
     },
     "metadata": {
      "needs_background": "light"
     },
     "output_type": "display_data"
    }
   ],
   "source": [
    "# Plotting the monthly trend of bike rentals\n",
    "plt.figure(figsize=(10, 6))\n",
    "plt.plot(monthly_rentals['date'], monthly_rentals['total_count'], marker='o', linestyle='-')\n",
    "plt.title('Monthly Trend of Bike Rentals (2011-2012)')\n",
    "plt.xlabel('Date')\n",
    "plt.ylabel('Total Bike Rentals')\n",
    "plt.grid(True)\n",
    "plt.show()"
   ]
  },
  {
   "cell_type": "markdown",
   "id": "6a9ee7fb-047e-42ea-9195-edf58f8d584b",
   "metadata": {},
   "source": [
    "Based on the plot, we observe a clear trend in bike rentals over the two-year period from January 2011 to December 2012. Initially, there is a gradual increase in rentals from January to April 2011, reaching a peak around May. Subsequently, rental counts maintain a relatively high level from April to October 2011. However, starting from October 2011, there is a decline in rentals, reaching the lowest point in December 2011. Following this decline, there is a noticeable upward trend, similar to that observed in 2011, with rental counts increasing steadily from January 2012 onwards. The peak rental months appear to be from May to October, with a subsequent decline thereafter."
   ]
  },
  {
   "cell_type": "markdown",
   "id": "538c8d6a-0b28-4fd9-ae6c-6dd36e8c4b9b",
   "metadata": {},
   "source": [
    "Additional Insights:\n",
    "- The peak rental months from May to October suggest a possible seasonal trend, with higher demand for bike rentals during warmer months, likely due to favorable weather conditions.\n",
    "- Although there are fluctuations in rental counts between 2011 and 2012, the overall trend of peak rentals during the warmer months and lower rentals during colder months remains consistent across both years.\n",
    "- In general 2012 has a higher bike rental number than 2011"
   ]
  },
  {
   "cell_type": "markdown",
   "id": "cc23b73d-aebd-496c-8b8c-6a90216e3673",
   "metadata": {},
   "source": [
    "### Question 2: How does weather condition impact bike rentals over the two-year period (2011-2012)?"
   ]
  },
  {
   "cell_type": "code",
   "execution_count": 51,
   "id": "44d9a06d-9206-4b59-9912-275c28eaedbc",
   "metadata": {},
   "outputs": [
    {
     "data": {
      "image/png": "[encoded data removed]",
      "text/plain": [
       "<Figure size 720x432 with 1 Axes>"
      ]
     },
     "metadata": {
      "needs_background": "light"
     },
     "output_type": "display_data"
    }
   ],
   "source": [
    "# Plotting the impact of weather condition on bike rentals over the two-year period\n",
    "plt.figure(figsize=(10, 6))\n",
    "sns.boxplot(data=df, x='weather', y='total_count')\n",
    "plt.title('Impact of Weather Condition on Bike Rentals (2011-2012)')\n",
    "plt.xlabel('Weather Condition')\n",
    "plt.ylabel('Total Bike Rentals')\n",
    "plt.grid(True)\n",
    "plt.show()\n"
   ]
  },
  {
   "cell_type": "markdown",
   "id": "07806f1e-5280-46ca-aeb7-afd151cae361",
   "metadata": {},
   "source": [
    "From the box plot depicting the impact of weather conditions on bike rentals over the two-year period, we observe varying distributions of rental counts across different weather conditions. Clear weather conditions tend to have the highest median rental counts. Misty conditions exhibit a slightly lower median rental count range. Lastly, light rain or snow conditions show the lowest median rental counts.\n",
    "\n",
    "Additional Insight:\n",
    "- The box plot highlights the dependency of bike rental demand on weather conditions. Clear weather conditions, typically associated with favorable outdoor conditions, tend to attract more bike rentals compared to misty or rainy conditions."
   ]
  },
  {
   "cell_type": "markdown",
   "id": "d62b796c-a44f-403b-b40f-82193773b8c1",
   "metadata": {},
   "source": [
    "### Question 3: What is the daily bike rental pattern on weekdays versus weekends over the two-year period (2011-2012)?"
   ]
  },
  {
   "cell_type": "code",
   "execution_count": 52,
   "id": "ba1d75f0-6950-4be2-a0d7-333008ac6326",
   "metadata": {},
   "outputs": [],
   "source": [
    "# Convert 'date' column to datetime format\n",
    "df['date'] = pd.to_datetime(df['date'])\n",
    "\n",
    "# Extract day of the week (weekday) from the 'date' column\n",
    "df['weekday'] = df['date'].dt.day_name()\n",
    "\n",
    "# Group by weekday and calculate the average rental counts\n",
    "daily_rentals = df.groupby('weekday')['total_count'].mean()\n",
    "\n",
    "# Define the order of weekdays for proper visualization\n",
    "weekdays_order = ['Monday', 'Tuesday', 'Wednesday', 'Thursday', 'Friday', 'Saturday', 'Sunday']\n"
   ]
  },
  {
   "cell_type": "code",
   "execution_count": 53,
   "id": "54d5ec08-a06d-45ea-a852-7b0567525a2c",
   "metadata": {},
   "outputs": [
    {
     "data": {
      "image/png": "[encoded data removed]",
      "text/plain": [
       "<Figure size 720x432 with 1 Axes>"
      ]
     },
     "metadata": {
      "needs_background": "light"
     },
     "output_type": "display_data"
    }
   ],
   "source": [
    "# Plotting the daily bike rental pattern on weekdays versus weekends\n",
    "plt.figure(figsize=(10, 6))\n",
    "plt.plot(daily_rentals.loc[weekdays_order[:-2]], label='Weekdays', marker='o')\n",
    "plt.plot(daily_rentals.loc[['Saturday', 'Sunday']], label='Weekends', marker='o')\n",
    "plt.title('Daily Bike Rental Pattern on Weekdays vs. Weekends (2011-2012)')\n",
    "plt.xlabel('Day of the Week')\n",
    "plt.ylabel('Average Bike Rentals')\n",
    "plt.xticks(rotation=45)\n",
    "plt.legend()\n",
    "plt.grid(True)\n",
    "plt.show()"
   ]
  },
  {
   "cell_type": "markdown",
   "id": "37dd7fa7-cb87-44a8-903c-98b6e9a8cc5b",
   "metadata": {},
   "source": [
    "From the plot illustrating the average daily bike rental pattern on weekdays versus weekends over the two-year period (2011-2012), it is evident that weekdays, encompassing Monday through Friday, experience higher average bike rental counts compared to weekends, comprising Saturday and Sunday.\n",
    "\n",
    "Additional Insights:\n",
    "- On average, weekdays (Monday to Friday) exhibit higher bike rental counts compared to weekends (Saturday and Sunday). The highest average rental count is observed on Thursdays, followed closely by Fridays. Mondays, Tuesdays, and Wednesdays also show relatively high average rental counts.\n",
    "- While weekends generally experience lower bike rental counts compared to weekdays, Saturdays tend to have slightly higher average rental counts compared to Sundays. However, both Saturdays and Sundays show lower average rental counts compared to weekdays.\n",
    "- Upon analysis, it was discovered that the two consecutive days with the lowest average bike rentals are observed on Sunday and Monday, contrary to the expected pattern of lower rentals on weekends, specifically Saturday and Sunday."
   ]
  },
  {
   "cell_type": "markdown",
   "id": "801390d9-51db-416d-8329-16451b5d1a7c",
   "metadata": {},
   "source": [
    "### Addition : K-means clustering"
   ]
  },
  {
   "cell_type": "code",
   "execution_count": 95,
   "id": "fbac2233-fea1-44df-95f5-840af0c79b08",
   "metadata": {},
   "outputs": [
    {
     "name": "stderr",
     "output_type": "stream",
     "text": [
      "C:\\Users\\Darren\\anaconda3\\lib\\site-packages\\sklearn\\cluster\\_kmeans.py:1440: UserWarning: KMeans is known to have a memory leak on Windows with MKL, when there are less chunks than available threads. You can avoid it by setting the environment variable OMP_NUM_THREADS=3.\n",
      "  warnings.warn(\n"
     ]
    },
    {
     "data": {
      "image/png": "[encoded data removed]",
      "text/plain": [
       "<Figure size 432x288 with 2 Axes>"
      ]
     },
     "metadata": {
      "needs_background": "light"
     },
     "output_type": "display_data"
    }
   ],
   "source": [
    "from sklearn.cluster import KMeans\n",
    "from sklearn.preprocessing import StandardScaler\n",
    "import matplotlib.pyplot as plt\n",
    "from mpl_toolkits.mplot3d import Axes3D\n",
    "\n",
    "features = ['temp', 'atemp', 'humidity', 'windspeed']\n",
    "num_clusters = 3\n",
    "X = df[features]\n",
    "kmeans = KMeans(n_clusters=num_clusters, random_state=42, n_init = 10)\n",
    "kmeans.fit(X)\n",
    "cluster_centers = kmeans.cluster_centers_\n",
    "cluster_labels = kmeans.labels_\n",
    "\n",
    "\n",
    "import matplotlib.pyplot as plt\n",
    "\n",
    "plt.scatter(X.iloc[:, 0], X.iloc[:, 1], c=cluster_labels, cmap='viridis')\n",
    "plt.scatter(cluster_centers[:, 0], cluster_centers[:, 1], c='red', marker='x', s=100)  # Plot cluster centers\n",
    "plt.xlabel(features[0])\n",
    "plt.ylabel(features[1])\n",
    "plt.title('K-means Clustering')\n",
    "plt.colorbar(label='Cluster')\n",
    "plt.show()"
   ]
  },
  {
   "cell_type": "code",
   "execution_count": 94,
   "id": "38f6e0b4-8a06-4687-a726-5f8d56bddb23",
   "metadata": {},
   "outputs": [
    {
     "name": "stdout",
     "output_type": "stream",
     "text": [
      "Cluster Centers:\n",
      "[[18.98234802 22.43589224 77.86404612 11.73652488]\n",
      " [13.59426926 16.2808692  49.81489567 15.0863766 ]\n",
      " [27.67147464 31.68613294 60.05930902 11.64330038]]\n",
      "Cluster Sizes:\n",
      "Cluster 0: 245 data points\n",
      "Cluster 1: 231 data points\n",
      "Cluster 2: 255 data points\n"
     ]
    }
   ],
   "source": [
    "print(\"Cluster Centers:\")\n",
    "print(cluster_centers)\n",
    "\n",
    "print(\"Cluster Sizes:\")\n",
    "for i in range(num_clusters):\n",
    "    cluster_size = np.sum(cluster_labels == i)\n",
    "    print(f\"Cluster {i}: {cluster_size} data points\")\n"
   ]
  },
  {
   "cell_type": "markdown",
   "id": "d66f5b74-edce-4e00-837e-81300499ef3a",
   "metadata": {},
   "source": [
    "### Cluster 0:\n",
    "- **Characteristics:**\n",
    "  - Temperature (Scaled): Moderate temperatures, with an average value around 18.98°C.\n",
    "  - Feeling Temperature (Scaled): Moderate feeling temperatures, with an average value around 22.44°C.\n",
    "  - Humidity (Scaled): Relatively high humidity levels, with an average value around 77.86%.\n",
    "  - Windspeed (Scaled): Moderate windspeed, with an average value around 11.74 km/h.\n",
    "- **Interpretation:**\n",
    "  - This cluster represents weather conditions with moderate temperatures and feeling temperatures. However, it tends to have relatively high humidity levels. The windspeed is moderate, suggesting calm to mild weather conditions. These conditions could be conducive to outdoor activities like bike riding, although the higher humidity levels might slightly affect comfort.\n",
    "\n",
    "### Cluster 1:\n",
    "- **Characteristics:**\n",
    "  - Temperature (Scaled): Relatively low temperatures, with an average value around 13.59°C.\n",
    "  - Feeling Temperature (Scaled): Relatively low feeling temperatures, with an average value around 16.28°C.\n",
    "  - Humidity (Scaled): Moderate humidity levels, with an average value around 49.81%.\n",
    "  - Windspeed (Scaled): Moderate windspeed, with an average value around 15.09 km/h.\n",
    "- **Interpretation:**\n",
    "  - This cluster represents weather conditions with cooler temperatures and feeling temperatures. Humidity levels are moderate, and windspeed is also moderate. These conditions might indicate cooler weather, which could impact outdoor activities like bike riding. However, the moderate windspeed might compensate for the lower temperatures, making it still feasible for bike rentals.\n",
    "\n",
    "### Cluster 2:\n",
    "- **Characteristics:**\n",
    "  - Temperature (Scaled): Relatively high temperatures, with an average value around 27.67°C.\n",
    "  - Feeling Temperature (Scaled): Relatively high feeling temperatures, with an average value around 31.69°C.\n",
    "  - Humidity (Scaled): Moderate humidity levels, with an average value around 60.06%.\n",
    "  - Windspeed (Scaled): Moderate windspeed, with an average value around 11.64 km/h.\n",
    "- **Interpretation:**\n",
    "  - This cluster represents weather conditions with warmer temperatures and feeling temperatures. Humidity levels are moderate, and windspeed is also moderate. These conditions suggest warm and possibly humid weather, which might be favorable for outdoor activities like bike riding. The moderate windspeed could contribute to comfortable riding conditions.\n"
   ]
  },
  {
   "cell_type": "markdown",
   "id": "6a48be2d-2252-4708-b42b-e080bc0931ed",
   "metadata": {},
   "source": [
    "## Conclusion"
   ]
  },
  {
   "cell_type": "markdown",
   "id": "2e09d876-c8af-4551-9bd0-f07ecb9fa71c",
   "metadata": {},
   "source": [
    "Conclusion for Question 1:\n",
    "- The monthly trend of bike rentals over the two-year period (2011-2012) indicates fluctuating patterns.\n",
    "- Rentals gradually increase from January to May, peaking steadily until October.\n",
    "- Subsequently, there is a decline in rental counts until January of the following year, followed by a rise similar to the previous year.\n",
    "- Peak rental months are observed from May to October, with a subsequent decline.\n",
    "\n",
    "Conclusion for Question 2:\n",
    "\n",
    "- Weather conditions significantly impact bike rentals over the two-year period (2011-2012).\n",
    "- Clear weather conditions tend to result in higher average rental counts compared to misty or rainy conditions.\n",
    "- Favorable weather conditions, such as clear skies, create a more conducive environment for outdoor activities like biking.\n",
    "- Good weather tends to increase interest in biking, leading to higher rental counts.\n",
    "\n",
    "Conclusion for Question 3:\n",
    "\n",
    "- The daily bike rental pattern on weekdays versus weekends over the two-year period (2011-2012) shows distinct differences.\n",
    "- Weekdays, encompassing Monday through Friday, experience higher average bike rental counts compared to weekends (Saturday and Sunday).\n",
    "The two consecutive days with the lowest average bike rentals are observed on Sunday and Monday, contrary to the expected pattern of lower rentals on weekends (Saturday and Sunday)."
   ]
  },
  {
   "cell_type": "code",
   "execution_count": 96,
   "id": "e35b9e40-4bb1-4875-a877-b2f570811120",
   "metadata": {},
   "outputs": [],
   "source": [
    "df.to_csv(\"day_bike.csv\")"
   ]
  },
  {
   "cell_type": "code",
   "execution_count": null,
   "id": "969ba06a-9582-4aad-8733-d709ceabd8e6",
   "metadata": {},
   "outputs": [],
   "source": []
  }
 ],
 "metadata": {
  "kernelspec": {
   "display_name": "Python 3",
   "language": "python",
   "name": "python3"
  },
  "language_info": {
   "codemirror_mode": {
    "name": "ipython",
    "version": 3
   },
   "file_extension": ".py",
   "mimetype": "text/x-python",
   "name": "python",
   "nbconvert_exporter": "python",
   "pygments_lexer": "ipython3",
   "version": "3.8.8"
  }
 },
 "nbformat": 4,
 "nbformat_minor": 5
}
